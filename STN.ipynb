{
 "cells": [
  {
   "cell_type": "code",
   "execution_count": 1,
   "metadata": {},
   "outputs": [
    {
     "ename": "ModuleNotFoundError",
     "evalue": "No module named 'paddle'",
     "output_type": "error",
     "traceback": [
      "\u001b[0;31m---------------------------------------------------------------------------\u001b[0m",
      "\u001b[0;31mModuleNotFoundError\u001b[0m                       Traceback (most recent call last)",
      "Input \u001b[0;32mIn [1]\u001b[0m, in \u001b[0;36m<module>\u001b[0;34m\u001b[0m\n\u001b[0;32m----> 1\u001b[0m \u001b[38;5;28;01mimport\u001b[39;00m \u001b[38;5;21;01mpaddle\u001b[39;00m \u001b[38;5;28;01mas\u001b[39;00m \u001b[38;5;21;01mP\u001b[39;00m \n\u001b[1;32m      2\u001b[0m \u001b[38;5;28;01mimport\u001b[39;00m \u001b[38;5;21;01mpaddle\u001b[39;00m\u001b[38;5;21;01m.\u001b[39;00m\u001b[38;5;21;01mnn\u001b[39;00m \u001b[38;5;28;01mas\u001b[39;00m \u001b[38;5;21;01mnn\u001b[39;00m \n\u001b[1;32m      3\u001b[0m \u001b[38;5;28;01mimport\u001b[39;00m \u001b[38;5;21;01mpaddle\u001b[39;00m\u001b[38;5;21;01m.\u001b[39;00m\u001b[38;5;21;01mnn\u001b[39;00m\u001b[38;5;21;01m.\u001b[39;00m\u001b[38;5;21;01mfunctional\u001b[39;00m \u001b[38;5;28;01mas\u001b[39;00m \u001b[38;5;21;01mF\u001b[39;00m \n",
      "\u001b[0;31mModuleNotFoundError\u001b[0m: No module named 'paddle'"
     ]
    }
   ],
   "source": [
    "import paddle as P \n",
    "import paddle.nn as nn \n",
    "import paddle.nn.functional as F \n",
    "import numpy as np \n",
    "import matplotlib.pyplot as plt \n",
    "import os \n",
    "from PIL import Image \n",
    "import math"
   ]
  },
  {
   "cell_type": "code",
   "execution_count": 2,
   "metadata": {},
   "outputs": [],
   "source": [
    "! unzip -qo data/data129883/MNIST.zip -d data"
   ]
  },
  {
   "cell_type": "markdown",
   "metadata": {},
   "source": [
    "# Global Variable"
   ]
  },
  {
   "cell_type": "code",
   "execution_count": 3,
   "metadata": {},
   "outputs": [],
   "source": [
    "channel = 1\n",
    "h = 28\n",
    "w = 28\n",
    "epoch = 10\n",
    "batchsize = 64\n",
    "path_train = 'data/MNIST/train/'\n",
    "path_test = 'data/MNIST/test/'"
   ]
  },
  {
   "cell_type": "markdown",
   "metadata": {},
   "source": [
    "# Data"
   ]
  },
  {
   "cell_type": "code",
   "execution_count": 4,
   "metadata": {},
   "outputs": [],
   "source": [
    "def reader(path):\n",
    "    folder_name = os.listdir(path)\n",
    "    folder_num = len(folder_name)\n",
    "    file_name_list = []\n",
    "    label_list = []\n",
    "    eye = np.eye(folder_num)\n",
    "    category_dict = {}\n",
    "    for i in range(folder_num):\n",
    "        category_dict[i] = folder_name[i]\n",
    "        file_name = os.listdir(path+folder_name[i])\n",
    "        for j in range(len(file_name)):\n",
    "            file_name_list += [[folder_name[i],file_name[j]]]\n",
    "            label_list += [i]\n",
    "    return file_name_list, label_list, category_dict, eye, folder_num\n",
    "\n",
    "\n",
    "def data_generator(batchsize, channel=channel, h=h, w=w, path=path_train):\n",
    "    #\n",
    "    file_name_list, label_list, _, eye, folder_num = reader(path)\n",
    "    #\n",
    "    state = np.random.get_state()\n",
    "    np.random.shuffle(file_name_list)\n",
    "    np.random.set_state(state)\n",
    "    np.random.shuffle(label_list)\n",
    "    num = 0\n",
    "    images = np.zeros([batchsize,channel,h,w])\n",
    "    labels = np.zeros([batchsize,folder_num])\n",
    "    for i in range(len(label_list)):\n",
    "        image = Image.open(path+file_name_list[i][0]+'/'+file_name_list[i][1])\n",
    "        image = image.resize((h,w),Image.BICUBIC)\n",
    "        image = np.array(image) / 255 * 2 - 1\n",
    "        images[num,:,:,:] = image.reshape([h,w,channel]).transpose([2, 0, 1])\n",
    "        labels[num,:] = eye[label_list[i]]\n",
    "        num += 1\n",
    "        if num != 0 and num % batchsize == 0:\n",
    "            yield images.astype(\"float32\"), labels.astype(\"float32\")\n",
    "            num = 0"
   ]
  },
  {
   "cell_type": "markdown",
   "metadata": {},
   "source": [
    "# Network Structure"
   ]
  },
  {
   "cell_type": "code",
   "execution_count": 5,
   "metadata": {},
   "outputs": [],
   "source": [
    "class Net(nn.Layer):\n",
    "\n",
    "    def __init__(self):\n",
    "        super(Net, self).__init__()\n",
    "        self.conv1 = nn.Conv2D(1, 10, kernel_size=5)\n",
    "        self.conv2 = nn.Conv2D(10, 20, kernel_size=5)\n",
    "        self.conv2_drop = nn.Dropout2D()\n",
    "        self.fc1 = nn.Linear(320, 50)\n",
    "        self.fc2 = nn.Linear(50, 10)\n",
    "        # Spatial transformer localization-network\n",
    "        self.localization = nn.Sequential(\n",
    "            nn.Conv2D(1, 8, kernel_size=7),\n",
    "            nn.MaxPool2D(2, stride=2),\n",
    "            nn.ReLU(),\n",
    "            nn.Conv2D(8, 10, kernel_size=5),\n",
    "            nn.MaxPool2D(2, stride=2),\n",
    "            nn.ReLU()\n",
    "        )\n",
    "        # Regressor for the 3 * 2 affine matrix\n",
    "        self.fc_loc = nn.Sequential(\n",
    "            nn.Linear(10 * 3 * 3, 32),\n",
    "            nn.ReLU(),\n",
    "            nn.Linear(32, 3 * 2)\n",
    "        )\n",
    "        # Initialize the weights/bias with identity transformation\n",
    "        self.fc_loc[2].weight.set_value(P.zeros([32, 3*2], dtype='float32'))\n",
    "        self.fc_loc[2].bias.set_value(P.to_tensor([1, 0, 0, 0, 1, 0], dtype='float32'))\n",
    "\n",
    "    # Spatial transformer network forward function\n",
    "    def stn(self, x):\n",
    "        xs = self.localization(x)\n",
    "        xs = xs.reshape([-1, 10 * 3 * 3])\n",
    "        theta = self.fc_loc(xs)\n",
    "        theta = theta.reshape([-1, 2, 3])\n",
    "        #\n",
    "        grid = F.affine_grid(theta, x.shape)\n",
    "        x = F.grid_sample(x, grid)\n",
    "        return x\n",
    "\n",
    "    def forward(self, x):\n",
    "        # transform the input\n",
    "        x = self.stn(x)\n",
    "        # Perform the usual forward pass\n",
    "        x = F.relu(F.max_pool2d(self.conv1(x), 2))\n",
    "        x = F.relu(F.max_pool2d(self.conv2_drop(self.conv2(x)), 2))\n",
    "        x = x.reshape([-1, 320])\n",
    "        x = F.relu(self.fc1(x))\n",
    "        x = F.dropout(x, training=self.training)\n",
    "        x = self.fc2(x)\n",
    "        x = F.softmax(x, axis=1)\n",
    "        return x"
   ]
  },
  {
   "cell_type": "markdown",
   "metadata": {},
   "source": [
    "# Metric"
   ]
  },
  {
   "cell_type": "code",
   "execution_count": 6,
   "metadata": {},
   "outputs": [],
   "source": [
    "def metric(net, batchsize=500, path=path_test):\n",
    "    net.eval()\n",
    "    data = data_generator(batchsize=batchsize, path=path)\n",
    "    file_name_list, _, _, _, _ = reader(path)\n",
    "    N = len(file_name_list)\n",
    "    n = 0\n",
    "    for image, label in data:\n",
    "        image = P.to_tensor(image)\n",
    "        label = P.to_tensor(label)\n",
    "        predict = net(image)\n",
    "        n += P.sum(P.argmax(predict, 1) == P.argmax(label, 1)).numpy()\n",
    "    return n/N"
   ]
  },
  {
   "cell_type": "markdown",
   "metadata": {},
   "source": [
    "# Show"
   ]
  },
  {
   "cell_type": "code",
   "execution_count": 18,
   "metadata": {},
   "outputs": [],
   "source": [
    "def show(net, batchsize=8, path=path_test):\n",
    "    net.eval()\n",
    "    data = data_generator(batchsize=batchsize, path=path)\n",
    "    image, _ = next(data)\n",
    "    image_transform = P.to_tensor(image)\n",
    "    image_transform = (image_transform + 1) / 2\n",
    "    image_transform = image_transform.transpose([0,2,3,1]).numpy()\n",
    "    for i in range(2):\n",
    "        for j in range(batchsize):\n",
    "            plt.subplot(2,batchsize,j)\n",
    "            plt.imshow(image[j])\n"
   ]
  },
  {
   "cell_type": "code",
   "execution_count": 19,
   "metadata": {},
   "outputs": [
    {
     "ename": "ValueError",
     "evalue": "num must be 1 <= num <= 16, not 0",
     "output_type": "error",
     "traceback": [
      "\u001b[0;31m---------------------------------------------------------------------------\u001b[0m",
      "\u001b[0;31mValueError\u001b[0m                                Traceback (most recent call last)",
      "\u001b[0;32m/tmp/ipykernel_1533/2161944206.py\u001b[0m in \u001b[0;36m<module>\u001b[0;34m\u001b[0m\n\u001b[0;32m----> 1\u001b[0;31m \u001b[0mshow\u001b[0m\u001b[0;34m(\u001b[0m\u001b[0mnet\u001b[0m\u001b[0;34m)\u001b[0m\u001b[0;34m\u001b[0m\u001b[0;34m\u001b[0m\u001b[0m\n\u001b[0m",
      "\u001b[0;32m/tmp/ipykernel_1533/1994750220.py\u001b[0m in \u001b[0;36mshow\u001b[0;34m(net, batchsize, path)\u001b[0m\n\u001b[1;32m      8\u001b[0m     \u001b[0;32mfor\u001b[0m \u001b[0mi\u001b[0m \u001b[0;32min\u001b[0m \u001b[0mrange\u001b[0m\u001b[0;34m(\u001b[0m\u001b[0;36m2\u001b[0m\u001b[0;34m)\u001b[0m\u001b[0;34m:\u001b[0m\u001b[0;34m\u001b[0m\u001b[0;34m\u001b[0m\u001b[0m\n\u001b[1;32m      9\u001b[0m         \u001b[0;32mfor\u001b[0m \u001b[0mj\u001b[0m \u001b[0;32min\u001b[0m \u001b[0mrange\u001b[0m\u001b[0;34m(\u001b[0m\u001b[0mbatchsize\u001b[0m\u001b[0;34m)\u001b[0m\u001b[0;34m:\u001b[0m\u001b[0;34m\u001b[0m\u001b[0;34m\u001b[0m\u001b[0m\n\u001b[0;32m---> 10\u001b[0;31m             \u001b[0mplt\u001b[0m\u001b[0;34m.\u001b[0m\u001b[0msubplot\u001b[0m\u001b[0;34m(\u001b[0m\u001b[0;36m2\u001b[0m\u001b[0;34m,\u001b[0m\u001b[0mbatchsize\u001b[0m\u001b[0;34m,\u001b[0m\u001b[0mj\u001b[0m\u001b[0;34m)\u001b[0m\u001b[0;34m\u001b[0m\u001b[0;34m\u001b[0m\u001b[0m\n\u001b[0m\u001b[1;32m     11\u001b[0m             \u001b[0mplt\u001b[0m\u001b[0;34m.\u001b[0m\u001b[0mimshow\u001b[0m\u001b[0;34m(\u001b[0m\u001b[0mimage\u001b[0m\u001b[0;34m[\u001b[0m\u001b[0mj\u001b[0m\u001b[0;34m]\u001b[0m\u001b[0;34m)\u001b[0m\u001b[0;34m\u001b[0m\u001b[0;34m\u001b[0m\u001b[0m\n",
      "\u001b[0;32m/opt/conda/envs/python35-paddle120-env/lib/python3.7/site-packages/matplotlib/pyplot.py\u001b[0m in \u001b[0;36msubplot\u001b[0;34m(*args, **kwargs)\u001b[0m\n\u001b[1;32m   1055\u001b[0m \u001b[0;34m\u001b[0m\u001b[0m\n\u001b[1;32m   1056\u001b[0m     \u001b[0mfig\u001b[0m \u001b[0;34m=\u001b[0m \u001b[0mgcf\u001b[0m\u001b[0;34m(\u001b[0m\u001b[0;34m)\u001b[0m\u001b[0;34m\u001b[0m\u001b[0;34m\u001b[0m\u001b[0m\n\u001b[0;32m-> 1057\u001b[0;31m     \u001b[0ma\u001b[0m \u001b[0;34m=\u001b[0m \u001b[0mfig\u001b[0m\u001b[0;34m.\u001b[0m\u001b[0madd_subplot\u001b[0m\u001b[0;34m(\u001b[0m\u001b[0;34m*\u001b[0m\u001b[0margs\u001b[0m\u001b[0;34m,\u001b[0m \u001b[0;34m**\u001b[0m\u001b[0mkwargs\u001b[0m\u001b[0;34m)\u001b[0m\u001b[0;34m\u001b[0m\u001b[0;34m\u001b[0m\u001b[0m\n\u001b[0m\u001b[1;32m   1058\u001b[0m     \u001b[0mbbox\u001b[0m \u001b[0;34m=\u001b[0m \u001b[0ma\u001b[0m\u001b[0;34m.\u001b[0m\u001b[0mbbox\u001b[0m\u001b[0;34m\u001b[0m\u001b[0;34m\u001b[0m\u001b[0m\n\u001b[1;32m   1059\u001b[0m     \u001b[0mbyebye\u001b[0m \u001b[0;34m=\u001b[0m \u001b[0;34m[\u001b[0m\u001b[0;34m]\u001b[0m\u001b[0;34m\u001b[0m\u001b[0;34m\u001b[0m\u001b[0m\n",
      "\u001b[0;32m/opt/conda/envs/python35-paddle120-env/lib/python3.7/site-packages/matplotlib/figure.py\u001b[0m in \u001b[0;36madd_subplot\u001b[0;34m(self, *args, **kwargs)\u001b[0m\n\u001b[1;32m   1255\u001b[0m                     \u001b[0mself\u001b[0m\u001b[0;34m.\u001b[0m\u001b[0m_axstack\u001b[0m\u001b[0;34m.\u001b[0m\u001b[0mremove\u001b[0m\u001b[0;34m(\u001b[0m\u001b[0max\u001b[0m\u001b[0;34m)\u001b[0m\u001b[0;34m\u001b[0m\u001b[0;34m\u001b[0m\u001b[0m\n\u001b[1;32m   1256\u001b[0m \u001b[0;34m\u001b[0m\u001b[0m\n\u001b[0;32m-> 1257\u001b[0;31m             \u001b[0ma\u001b[0m \u001b[0;34m=\u001b[0m \u001b[0msubplot_class_factory\u001b[0m\u001b[0;34m(\u001b[0m\u001b[0mprojection_class\u001b[0m\u001b[0;34m)\u001b[0m\u001b[0;34m(\u001b[0m\u001b[0mself\u001b[0m\u001b[0;34m,\u001b[0m \u001b[0;34m*\u001b[0m\u001b[0margs\u001b[0m\u001b[0;34m,\u001b[0m \u001b[0;34m**\u001b[0m\u001b[0mkwargs\u001b[0m\u001b[0;34m)\u001b[0m\u001b[0;34m\u001b[0m\u001b[0;34m\u001b[0m\u001b[0m\n\u001b[0m\u001b[1;32m   1258\u001b[0m         \u001b[0mself\u001b[0m\u001b[0;34m.\u001b[0m\u001b[0m_axstack\u001b[0m\u001b[0;34m.\u001b[0m\u001b[0madd\u001b[0m\u001b[0;34m(\u001b[0m\u001b[0mkey\u001b[0m\u001b[0;34m,\u001b[0m \u001b[0ma\u001b[0m\u001b[0;34m)\u001b[0m\u001b[0;34m\u001b[0m\u001b[0;34m\u001b[0m\u001b[0m\n\u001b[1;32m   1259\u001b[0m         \u001b[0mself\u001b[0m\u001b[0;34m.\u001b[0m\u001b[0msca\u001b[0m\u001b[0;34m(\u001b[0m\u001b[0ma\u001b[0m\u001b[0;34m)\u001b[0m\u001b[0;34m\u001b[0m\u001b[0;34m\u001b[0m\u001b[0m\n",
      "\u001b[0;32m/opt/conda/envs/python35-paddle120-env/lib/python3.7/site-packages/matplotlib/axes/_subplots.py\u001b[0m in \u001b[0;36m__init__\u001b[0;34m(self, fig, *args, **kwargs)\u001b[0m\n\u001b[1;32m     65\u001b[0m                     raise ValueError(\n\u001b[1;32m     66\u001b[0m                         (\"num must be 1 <= num <= {maxn}, not {num}\"\n\u001b[0;32m---> 67\u001b[0;31m                         ).format(maxn=rows*cols, num=num))\n\u001b[0m\u001b[1;32m     68\u001b[0m                 self._subplotspec = GridSpec(\n\u001b[1;32m     69\u001b[0m                         rows, cols, figure=self.figure)[int(num) - 1]\n",
      "\u001b[0;31mValueError\u001b[0m: num must be 1 <= num <= 16, not 0"
     ]
    },
    {
     "data": {
      "text/plain": [
       "<Figure size 432x288 with 0 Axes>"
      ]
     },
     "metadata": {},
     "output_type": "display_data"
    }
   ],
   "source": [
    "show(net)"
   ]
  },
  {
   "cell_type": "code",
   "execution_count": null,
   "metadata": {},
   "outputs": [],
   "source": []
  },
  {
   "cell_type": "markdown",
   "metadata": {},
   "source": [
    "# Train"
   ]
  },
  {
   "cell_type": "code",
   "execution_count": 7,
   "metadata": {},
   "outputs": [],
   "source": [
    "def train(epochs, batchsize):\n",
    "    net = Net()\n",
    "    optimizer = P.optimizer.Adam(learning_rate=1e-4, beta1=0.9, parameters=net.parameters())\n",
    "    #\n",
    "    for epoch in range(epochs):\n",
    "        net.train()\n",
    "        data = data_generator(batchsize)\n",
    "        for image, label in data:      \n",
    "            image = P.to_tensor(image)  \n",
    "            label = P.to_tensor(label)  \n",
    "            y = net(image)\n",
    "            loss = P.mean(P.sum(-label*P.log(y+1e-8), axis=1)) \n",
    "            optimizer.clear_grad()\n",
    "            loss.backward()\n",
    "            optimizer.step()\n",
    "        #  \n",
    "        accuracy = metric(net)\n",
    "        print('Epoch: {}. Loss: {:.4f}. Accuracy: {}'.format(epoch, loss.numpy().item(), accuracy.item()))"
   ]
  },
  {
   "cell_type": "code",
   "execution_count": 8,
   "metadata": {},
   "outputs": [
    {
     "name": "stderr",
     "output_type": "stream",
     "text": [
      "W0301 17:37:48.898911  1533 device_context.cc:447] Please NOTE: device: 0, GPU Compute Capability: 7.0, Driver API Version: 11.0, Runtime API Version: 10.1\n",
      "W0301 17:37:48.904063  1533 device_context.cc:465] device: 0, cuDNN Version: 7.6.\n"
     ]
    },
    {
     "name": "stdout",
     "output_type": "stream",
     "text": [
      "Epoch: 0. Loss: 1.4784194231033325. Accuracy: 0.7847\n",
      "Epoch: 1. Loss: 0.8772228956222534. Accuracy: 0.918\n",
      "Epoch: 2. Loss: 0.5756063461303711. Accuracy: 0.9424\n",
      "Epoch: 3. Loss: 0.40646690130233765. Accuracy: 0.9568\n",
      "Epoch: 4. Loss: 0.3620942234992981. Accuracy: 0.9604\n",
      "Epoch: 5. Loss: 0.30423325300216675. Accuracy: 0.9671\n",
      "Epoch: 6. Loss: 0.2570858299732208. Accuracy: 0.9707\n",
      "Epoch: 7. Loss: 0.1629200577735901. Accuracy: 0.9744\n",
      "Epoch: 8. Loss: 0.2564988136291504. Accuracy: 0.9758\n",
      "Epoch: 9. Loss: 0.1767169088125229. Accuracy: 0.9761\n",
      "Epoch: 10. Loss: 0.2526986002922058. Accuracy: 0.9783\n",
      "Epoch: 11. Loss: 0.2029482126235962. Accuracy: 0.976\n",
      "Epoch: 12. Loss: 0.1438068449497223. Accuracy: 0.9792\n",
      "Epoch: 13. Loss: 0.3689615726470947. Accuracy: 0.9788\n",
      "Epoch: 14. Loss: 0.2632424235343933. Accuracy: 0.9813\n",
      "Epoch: 15. Loss: 0.14257284998893738. Accuracy: 0.9816\n",
      "Epoch: 16. Loss: 0.21213743090629578. Accuracy: 0.9827\n",
      "Epoch: 17. Loss: 0.23665952682495117. Accuracy: 0.9843\n",
      "Epoch: 18. Loss: 0.15021881461143494. Accuracy: 0.9824\n",
      "Epoch: 19. Loss: 0.10210209339857101. Accuracy: 0.9842\n"
     ]
    }
   ],
   "source": [
    "train(epoch, batchsize)"
   ]
  },
  {
   "cell_type": "code",
   "execution_count": 9,
   "metadata": {},
   "outputs": [
    {
     "name": "stdout",
     "output_type": "stream",
     "text": [
      "[2, 1, 28, 28]\n"
     ]
    }
   ],
   "source": [
    "net = Net()\n",
    "x = P.randn([2,1,28,28])\n",
    "y = net.stn(x)\n",
    "print(y.shape)"
   ]
  },
  {
   "cell_type": "code",
   "execution_count": null,
   "metadata": {},
   "outputs": [],
   "source": []
  },
  {
   "cell_type": "code",
   "execution_count": null,
   "metadata": {},
   "outputs": [],
   "source": []
  },
  {
   "cell_type": "code",
   "execution_count": null,
   "metadata": {},
   "outputs": [],
   "source": []
  },
  {
   "cell_type": "code",
   "execution_count": null,
   "metadata": {},
   "outputs": [],
   "source": []
  },
  {
   "cell_type": "code",
   "execution_count": null,
   "metadata": {},
   "outputs": [],
   "source": []
  }
 ],
 "metadata": {
  "kernelspec": {
   "display_name": "Python 3 (ipykernel)",
   "language": "python",
   "name": "python3"
  },
  "language_info": {
   "codemirror_mode": {
    "name": "ipython",
    "version": 3
   },
   "file_extension": ".py",
   "mimetype": "text/x-python",
   "name": "python",
   "nbconvert_exporter": "python",
   "pygments_lexer": "ipython3",
   "version": "3.9.10"
  }
 },
 "nbformat": 4,
 "nbformat_minor": 1
}
