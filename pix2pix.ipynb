{
 "cells": [
  {
   "cell_type": "markdown",
   "metadata": {
    "collapsed": false,
    "execution": {
     "iopub.execute_input": "2022-06-30T05:40:16.528943Z",
     "iopub.status.busy": "2022-06-30T05:40:16.528023Z",
     "iopub.status.idle": "2022-06-30T05:40:20.852628Z",
     "shell.execute_reply": "2022-06-30T05:40:20.851446Z",
     "shell.execute_reply.started": "2022-06-30T05:40:16.528902Z"
    },
    "jupyter": {
     "outputs_hidden": false
    },
    "scrolled": true,
    "tags": []
   },
   "source": [
    "UNet中间特征图为1x1，pytorch貌似1x1特征图后不能有bn、in？略蠢。。  \n",
    "本次遇到一个大坑，生成的图像很模糊，检查半天发现是学习率衰减那块有问题，去掉之后就好了。。"
   ]
  },
  {
   "cell_type": "code",
   "execution_count": null,
   "metadata": {
    "collapsed": false,
    "execution": {
     "iopub.execute_input": "2022-06-14T01:39:32.004303Z",
     "iopub.status.busy": "2022-06-14T01:39:32.003837Z",
     "iopub.status.idle": "2022-06-14T01:39:34.242133Z",
     "shell.execute_reply": "2022-06-14T01:39:34.241480Z",
     "shell.execute_reply.started": "2022-06-14T01:39:32.004265Z"
    },
    "jupyter": {
     "outputs_hidden": false
    },
    "scrolled": true,
    "tags": []
   },
   "outputs": [],
   "source": [
    "import torch as T \n",
    "import torch.nn as nn \n",
    "import torch.nn.functional as F \n",
    "import numpy as np \n",
    "import os \n",
    "import matplotlib.pyplot as plt \n",
    "from PIL import Image \n",
    "import time \n",
    "import torchvision.transforms as trans \n",
    "from torch.utils.data import Dataset, DataLoader "
   ]
  },
  {
   "cell_type": "markdown",
   "metadata": {},
   "source": [
    "# Data"
   ]
  },
  {
   "cell_type": "code",
   "execution_count": null,
   "metadata": {
    "collapsed": false,
    "execution": {
     "iopub.execute_input": "2022-06-14T01:39:34.243695Z",
     "iopub.status.busy": "2022-06-14T01:39:34.243356Z",
     "iopub.status.idle": "2022-06-14T01:39:34.248872Z",
     "shell.execute_reply": "2022-06-14T01:39:34.248372Z",
     "shell.execute_reply.started": "2022-06-14T01:39:34.243665Z"
    },
    "jupyter": {
     "outputs_hidden": false
    },
    "scrolled": true,
    "tags": []
   },
   "outputs": [],
   "source": [
    "# data\n",
    "path_a_train = ['/home/wwang/datasets/cityscapes/trainB/']\n",
    "path_b_train = ['/home/wwang/datasets/cityscapes/trainA/']\n",
    "path_a_test = ['/home/wwang/datasets/cityscapes/testB/']\n",
    "path_b_test = ['/home/wwang/datasets/cityscapes/testA/']\n",
    "resize = [286, 286]\n",
    "patchsize = [256, 256]\n",
    "# network\n",
    "channel_d = 64\n",
    "channel_g = 64\n",
    "layer_resblock = 9\n",
    "# training\n",
    "λ_pix = 100\n",
    "step_g = 1\n",
    "batch_size = 1 # 1\n",
    "device = T.device(\"cuda:0\")\n",
    "path_work = \"/home/wwang/wwgeneration/work/pix2pix/\"\n",
    "num_workers = 4\n",
    "learning_rate_g = 2e-4\n",
    "learning_rate_d = 2e-4\n",
    "epochs = 200"
   ]
  },
  {
   "cell_type": "code",
   "execution_count": null,
   "metadata": {},
   "outputs": [],
   "source": [
    "def path_to_dir(path):\n",
    "    list_ = []\n",
    "    for path_ in path:\n",
    "        dirs = os.listdir(path_)\n",
    "        dirs.sort() # !\n",
    "        for dir_ in dirs:\n",
    "            list_.append(path_ + dir_)\n",
    "    return list_\n",
    "\n",
    "\n",
    "list_a_train = path_to_dir(path_a_train)\n",
    "list_b_train = path_to_dir(path_b_train)\n",
    "list_a_test = path_to_dir(path_a_test)\n",
    "list_b_test = path_to_dir(path_b_test)"
   ]
  },
  {
   "cell_type": "code",
   "execution_count": null,
   "metadata": {},
   "outputs": [],
   "source": [
    "class Dataset_pix2pix(Dataset):\n",
    "    #\n",
    "    def __init__(self, list_a=list_a_train, list_b=list_b_train):\n",
    "        self.list_a = list_a\n",
    "        self.list_b = list_b\n",
    "    #\n",
    "    def __getitem__(self, idx):\n",
    "        # resize 286\n",
    "        image_a = np.array(Image.open(self.list_a[idx]).resize(resize), dtype='float32').transpose([2,0,1]) / 255 * 2 - 1\n",
    "        image_b = np.array(Image.open(self.list_b[idx]).resize(resize), dtype='float32').transpose([2,0,1]) / 255 * 2 - 1\n",
    "        # crop 256\n",
    "        h_min = np.random.randint(resize[0]-patchsize[0]+1)\n",
    "        w_min = np.random.randint(resize[1]-patchsize[1]+1)\n",
    "        image_a = image_a[:, h_min:h_min+patchsize[0], w_min:w_min+patchsize[1]]\n",
    "        image_b = image_b[:, h_min:h_min+patchsize[0], w_min:w_min+patchsize[1]]\n",
    "        # flip left-right\n",
    "        if np.random.randint(2):\n",
    "            image_a = image_a[:,:,::-1].copy()\n",
    "            image_b = image_b[:,:,::-1].copy()\n",
    "        return image_a, image_b\n",
    "    #\n",
    "    def __len__(self):\n",
    "        return len(self.list_a)"
   ]
  },
  {
   "cell_type": "code",
   "execution_count": null,
   "metadata": {
    "execution": {
     "iopub.execute_input": "2022-06-14T01:39:34.273186Z",
     "iopub.status.busy": "2022-06-14T01:39:34.273015Z",
     "iopub.status.idle": "2022-06-14T01:39:35.823790Z",
     "shell.execute_reply": "2022-06-14T01:39:35.822969Z",
     "shell.execute_reply.started": "2022-06-14T01:39:34.273166Z"
    },
    "scrolled": true,
    "tags": []
   },
   "outputs": [],
   "source": [
    "dataloader = DataLoader(Dataset_pix2pix(), batch_size=1)\n",
    "n = 0\n",
    "for image_a, image_b in dataloader:\n",
    "    if n == 2:\n",
    "        break\n",
    "    n += 1\n",
    "    image_a = image_a.numpy().squeeze().transpose([1,2,0])\n",
    "    image_b = image_b.numpy().squeeze().transpose([1,2,0])\n",
    "    plt.subplot(1,2,1), plt.imshow(image_a/2+0.5), plt.title('a')\n",
    "    plt.subplot(1,2,2), plt.imshow(image_b/2+0.5), plt.title('b')\n",
    "    plt.show()"
   ]
  },
  {
   "cell_type": "markdown",
   "metadata": {},
   "source": [
    "# Network Structure"
   ]
  },
  {
   "cell_type": "markdown",
   "metadata": {},
   "source": [
    "## Discriminator"
   ]
  },
  {
   "cell_type": "code",
   "execution_count": null,
   "metadata": {
    "execution": {
     "iopub.execute_input": "2022-06-14T01:39:35.825286Z",
     "iopub.status.busy": "2022-06-14T01:39:35.824784Z",
     "iopub.status.idle": "2022-06-14T01:39:35.831512Z",
     "shell.execute_reply": "2022-06-14T01:39:35.830900Z",
     "shell.execute_reply.started": "2022-06-14T01:39:35.825248Z"
    },
    "scrolled": true,
    "tags": []
   },
   "outputs": [],
   "source": [
    "class Downsample(nn.Module):\n",
    "    #\n",
    "    def __init__(self, in_channels, out_channels, stride=2, apply_norm='in'):\n",
    "        super().__init__()\n",
    "        self.layers = nn.ModuleList([\n",
    "            nn.Conv2d(in_channels, out_channels, kernel_size=4, stride=stride, padding=1, bias=False)\n",
    "        ])\n",
    "        if apply_norm == 'in':\n",
    "            self.layers.append(nn.InstanceNorm2d(out_channels))\n",
    "        if apply_norm == 'bn':\n",
    "            self.layers.append(nn.BatchNorm2d(out_channels))\n",
    "        self.layers.append(nn.LeakyReLU(0.2))\n",
    "    #\n",
    "    def forward(self, x):\n",
    "        for layer in self.layers:\n",
    "            x = layer(x)\n",
    "        return x"
   ]
  },
  {
   "cell_type": "code",
   "execution_count": null,
   "metadata": {},
   "outputs": [],
   "source": [
    "class Discriminator(nn.Module):\n",
    "    #\n",
    "    def __init__(self, channel=channel_d):\n",
    "        super().__init__()\n",
    "        self.layers = nn.ModuleList()\n",
    "        channels = [6, 64, 128, 256, 512]\n",
    "        strides = [2, 2, 2, 1]\n",
    "        apply_norms = [False, 'in', 'in', 'in']\n",
    "        for i in range(4):\n",
    "            self.layers.append(Downsample(channels[i], channels[i+1], stride=strides[i], apply_norm=apply_norms[i]))\n",
    "        self.layers.append(nn.Conv2d(channels[i+1], 1, 4, stride=1, padding=1))\n",
    "    #\n",
    "    def forward(self, x1, x2):\n",
    "        x = T.cat([x1, x2], 1)\n",
    "        for layer in self.layers:\n",
    "            x = layer(x)\n",
    "        return x "
   ]
  },
  {
   "cell_type": "markdown",
   "metadata": {},
   "source": [
    "## Generator"
   ]
  },
  {
   "cell_type": "code",
   "execution_count": null,
   "metadata": {
    "execution": {
     "iopub.execute_input": "2022-06-14T01:39:35.832826Z",
     "iopub.status.busy": "2022-06-14T01:39:35.832351Z",
     "iopub.status.idle": "2022-06-14T01:39:35.840755Z",
     "shell.execute_reply": "2022-06-14T01:39:35.840248Z",
     "shell.execute_reply.started": "2022-06-14T01:39:35.832800Z"
    },
    "scrolled": true,
    "tags": []
   },
   "outputs": [],
   "source": [
    "class Upsample(nn.Module):\n",
    "    #\n",
    "    def __init__(self, in_channels, out_channels, apply_dropout=False):\n",
    "        super().__init__()\n",
    "        self.layers = nn.ModuleList([\n",
    "            nn.ConvTranspose2d(in_channels, out_channels, kernel_size=4, stride=2, padding=1, bias=False), \n",
    "            # nn.BatchNorm2D(out_channels)\n",
    "            nn.InstanceNorm2d(out_channels)\n",
    "        ])\n",
    "        if apply_dropout:\n",
    "            self.layers.append(nn.Dropout(0.5))\n",
    "        self.layers.append(nn.ReLU())\n",
    "    #\n",
    "    def forward(self, x):\n",
    "        for layer in self.layers:\n",
    "            x = layer(x)\n",
    "        return x"
   ]
  },
  {
   "cell_type": "code",
   "execution_count": null,
   "metadata": {
    "execution": {
     "iopub.execute_input": "2022-06-14T01:39:35.841940Z",
     "iopub.status.busy": "2022-06-14T01:39:35.841573Z",
     "iopub.status.idle": "2022-06-14T01:39:35.944679Z",
     "shell.execute_reply": "2022-06-14T01:39:35.944032Z",
     "shell.execute_reply.started": "2022-06-14T01:39:35.841916Z"
    },
    "scrolled": true,
    "tags": []
   },
   "outputs": [],
   "source": [
    "class Generator(nn.Module):\n",
    "    #\n",
    "    def __init__(self, channel=channel_g):\n",
    "        super().__init__()\n",
    "        # down\n",
    "        self.layers_down = nn.ModuleList([\n",
    "            Downsample(3, channel, apply_norm=False)\n",
    "        ])\n",
    "        for i in range(7):\n",
    "            in_channels = min(channel * 2**i, 512)\n",
    "            out_channels = min(channel * 2**(i+1), 512)\n",
    "            if i == 6:\n",
    "                self.layers_down.append(Downsample(in_channels, out_channels, apply_norm=False))\n",
    "            else:\n",
    "                self.layers_down.append(Downsample(in_channels, out_channels))\n",
    "        # up\n",
    "        self.layers_up = nn.ModuleList([\n",
    "            Upsample(channel*8, channel*8, apply_dropout=True)\n",
    "        ])\n",
    "        for i in range(6):\n",
    "            in_channels = min(channel * 2**(7-i), 1024)\n",
    "            out_channels = min(channel * 2**(5-i), 512)\n",
    "            apply_dropout = True if i<=1 else False\n",
    "            self.layers_up.append(Upsample(in_channels, out_channels, apply_dropout=apply_dropout))\n",
    "        self.layers_up.append(nn.ConvTranspose2d(channel*2, 3, 4, stride=2, padding=1))\n",
    "    #\n",
    "    def forward(self, x):\n",
    "        # down\n",
    "        middle_outputs = []\n",
    "        for i, layer in enumerate(self.layers_down):\n",
    "            x = layer(x)\n",
    "            if i < 7:\n",
    "                middle_outputs.append(x)\n",
    "        # up\n",
    "        middle_outputs.reverse()\n",
    "        for i, layer in enumerate(self.layers_up):\n",
    "            if i >= 1:\n",
    "                x = T.cat([x, middle_outputs[i-1]], axis=1)\n",
    "            x = layer(x)\n",
    "        return T.tanh(x)"
   ]
  },
  {
   "cell_type": "markdown",
   "metadata": {
    "execution": {
     "iopub.execute_input": "2022-06-14T01:39:35.946002Z",
     "iopub.status.busy": "2022-06-14T01:39:35.945596Z",
     "iopub.status.idle": "2022-06-14T01:39:35.951650Z",
     "shell.execute_reply": "2022-06-14T01:39:35.950999Z",
     "shell.execute_reply.started": "2022-06-14T01:39:35.945977Z"
    },
    "scrolled": true,
    "tags": []
   },
   "source": [
    "# Show"
   ]
  },
  {
   "cell_type": "code",
   "execution_count": null,
   "metadata": {
    "execution": {
     "iopub.execute_input": "2022-06-14T01:39:35.953893Z",
     "iopub.status.busy": "2022-06-14T01:39:35.953655Z",
     "iopub.status.idle": "2022-06-14T01:39:35.961521Z",
     "shell.execute_reply": "2022-06-14T01:39:35.960874Z",
     "shell.execute_reply.started": "2022-06-14T01:39:35.953870Z"
    },
    "scrolled": true,
    "tags": []
   },
   "outputs": [],
   "source": [
    "@T.no_grad()\n",
    "def show(net=None, list_a=list_a_test, list_b=list_b_test):\n",
    "    #\n",
    "    if net is None:\n",
    "        net = Generator().to(device)\n",
    "    net.eval()\n",
    "    #\n",
    "    dataloader = DataLoader(Dataset_pix2pix(list_a=list_a_test, list_b=list_b_test), batch_size=1, shuffle=True)\n",
    "    for image_a, image_b in dataloader:\n",
    "        break\n",
    "    image_a = image_a.to(device)\n",
    "    image_b = image_b.numpy().squeeze().transpose([1,2,0]) * 0.5 + 0.5\n",
    "    image_a2b = net(image_a).cpu().numpy().squeeze().transpose([1,2,0]) * 0.5 + 0.5\n",
    "    image_a = image_a.cpu().numpy().squeeze().transpose([1,2,0]) * 0.5 + 0.5\n",
    "    #\n",
    "    plt.figure(figsize=[20,20])\n",
    "    plt.subplot(1,3,1), plt.imshow(image_a), plt.title('a')\n",
    "    plt.subplot(1,3,2), plt.imshow(image_a2b), plt.title('a2b')\n",
    "    plt.subplot(1,3,3), plt.imshow(image_b), plt.title('b')\n",
    "    plt.show()"
   ]
  },
  {
   "cell_type": "code",
   "execution_count": null,
   "metadata": {
    "execution": {
     "iopub.execute_input": "2022-06-14T01:39:35.962377Z",
     "iopub.status.busy": "2022-06-14T01:39:35.962206Z",
     "iopub.status.idle": "2022-06-14T01:39:40.730855Z",
     "shell.execute_reply": "2022-06-14T01:39:40.730090Z",
     "shell.execute_reply.started": "2022-06-14T01:39:35.962357Z"
    },
    "scrolled": true,
    "tags": []
   },
   "outputs": [],
   "source": [
    "show()"
   ]
  },
  {
   "cell_type": "markdown",
   "metadata": {},
   "source": [
    "# Train"
   ]
  },
  {
   "cell_type": "code",
   "execution_count": null,
   "metadata": {
    "execution": {
     "iopub.execute_input": "2022-06-14T01:39:40.732050Z",
     "iopub.status.busy": "2022-06-14T01:39:40.731785Z",
     "iopub.status.idle": "2022-06-14T01:39:40.736669Z",
     "shell.execute_reply": "2022-06-14T01:39:40.736192Z",
     "shell.execute_reply.started": "2022-06-14T01:39:40.732025Z"
    },
    "scrolled": true,
    "tags": []
   },
   "outputs": [],
   "source": [
    "def trainer_d(net_g, net_d, optimizer_d, image_a, image_b):\n",
    "    #\n",
    "    src_b = net_d(image_b, image_a)\n",
    "    # loss_d_b = -T.mean(T.log(F.sigmoid(src_b)+1e-8))\n",
    "    loss_d_b = F.binary_cross_entropy_with_logits(src_b, T.ones_like(src_b))\n",
    "    #\n",
    "    image_a2b = net_g(image_a)\n",
    "    src_a2b = net_d(image_a2b.detach(), image_a)\n",
    "    # loss_d_a2b = -T.mean(T.log(1-F.sigmoid(src_a2b)+1e-8))\n",
    "    loss_d_a2b = F.binary_cross_entropy_with_logits(src_a2b, T.zeros_like(src_a2b))\n",
    "    #\n",
    "    loss_d = loss_d_b + loss_d_a2b\n",
    "    optimizer_d.zero_grad()\n",
    "    loss_d.backward()\n",
    "    optimizer_d.step()"
   ]
  },
  {
   "cell_type": "code",
   "execution_count": null,
   "metadata": {
    "execution": {
     "iopub.execute_input": "2022-06-14T01:39:40.737790Z",
     "iopub.status.busy": "2022-06-14T01:39:40.737439Z",
     "iopub.status.idle": "2022-06-14T01:39:40.751535Z",
     "shell.execute_reply": "2022-06-14T01:39:40.750755Z",
     "shell.execute_reply.started": "2022-06-14T01:39:40.737767Z"
    },
    "scrolled": true,
    "tags": []
   },
   "outputs": [],
   "source": [
    "def trainer_g(net_g, net_d, optimizer_g, image_a, image_b):\n",
    "    #\n",
    "    image_a2b = net_g(image_a)\n",
    "    loss_g_pix = T.mean(T.abs(image_a2b - image_b))\n",
    "    #\n",
    "    src_a2b = net_d(image_a2b, image_a)\n",
    "    # loss_d_a2b = -T.mean(T.log(F.sigmoid(src_a2b)+1e-8))\n",
    "    loss_d_a2b = F.binary_cross_entropy_with_logits(src_a2b, T.ones_like(src_a2b))\n",
    "    #\n",
    "    loss_g = λ_pix*loss_g_pix + loss_d_a2b \n",
    "    optimizer_g.zero_grad()\n",
    "    loss_g.backward()\n",
    "    optimizer_g.step()"
   ]
  },
  {
   "cell_type": "code",
   "execution_count": null,
   "metadata": {
    "execution": {
     "iopub.execute_input": "2022-06-14T01:39:40.753008Z",
     "iopub.status.busy": "2022-06-14T01:39:40.752571Z",
     "iopub.status.idle": "2022-06-14T01:39:40.763829Z",
     "shell.execute_reply": "2022-06-14T01:39:40.763267Z",
     "shell.execute_reply.started": "2022-06-14T01:39:40.752980Z"
    },
    "scrolled": true,
    "tags": []
   },
   "outputs": [],
   "source": [
    "def train(epochs, load_model=False):\n",
    "    #\n",
    "    epoch_last = np.load(path_work + 'epoch.npy', allow_pickle=True).item() if load_model else -1\n",
    "    net_g = Generator().to(device)\n",
    "    net_d = Discriminator().to(device)\n",
    "    net_d.train()\n",
    "    optimizer_g = T.optim.Adam(net_g.parameters(), learning_rate_g, betas=(0.5,0.999))\n",
    "    optimizer_d = T.optim.Adam(net_d.parameters(), learning_rate_d, betas=(0.5,0.999))\n",
    "    if load_model:\n",
    "        net_g.load_state_dict(T.load(path_work + 'net_g.pt'))\n",
    "        optimizer_g.load_state_dict(T.load(path_work + 'optimizer_g.pt'))\n",
    "        net_d.load_state_dict(T.load(path_work + 'net_d.pt'))\n",
    "        optimizer_d.load_state_dict(T.load(path_work + 'optimizer_d.pt'))\n",
    "    # scheduler_g = T.optim.lr_scheduler.StepLR(optimizer_g, step_size=200, gamma = 0.5, last_epoch=epoch_last)\n",
    "    # scheduler_d = T.optim.lr_scheduler.StepLR(optimizer_d, step_size=200, gamma = 0.5, last_epoch=epoch_last)\n",
    "    #\n",
    "    iteration = 0\n",
    "    for epoch in range(epoch_last + 1, epochs):\n",
    "        time_start = time.time()\n",
    "        dataloader = DataLoader(Dataset_pix2pix(), batch_size=batch_size, shuffle=True, num_workers=num_workers)\n",
    "        for image_a, image_b in dataloader:\n",
    "            net_g.train()\n",
    "            iteration += 1             \n",
    "            image_a, image_b = image_a.to(device), image_b.to(device)\n",
    "            trainer_d(net_g, net_d, optimizer_d, image_a, image_b)\n",
    "            if iteration % step_g == 0:\n",
    "                trainer_g(net_g, net_d, optimizer_g, image_a, image_b)\n",
    "            # scheduler_g.step()\n",
    "            # scheduler_d.step()\n",
    "    #\n",
    "        if epoch % 1 == 0:\n",
    "            print('Epoch: ', epoch, ', lteration: ', iteration)    \n",
    "            show(net_g)        \n",
    "            T.save(net_d.state_dict(), path_work + 'net_d.pt')\n",
    "            T.save(net_d.state_dict(), path_work + '备用net_d.pt')\n",
    "            T.save(optimizer_d.state_dict(), path_work + 'optimizer_d.pt')\n",
    "            T.save(optimizer_d.state_dict(), path_work + '备用optimizer_d.pt')\n",
    "            T.save(net_g.state_dict(), path_work + 'net_g.pt')\n",
    "            T.save(net_g.state_dict(), path_work + '备用net_g.pt')\n",
    "            T.save(optimizer_g.state_dict(), path_work + 'optimizer_g.pt')\n",
    "            T.save(optimizer_g.state_dict(), path_work + '备用optimizer_g.pt')\n",
    "            np.save(path_work + 'epoch.npy', epoch)\n",
    "        print('This epoch cost {} seconds'.format(time.time() - time_start))"
   ]
  },
  {
   "cell_type": "code",
   "execution_count": null,
   "metadata": {
    "execution": {
     "iopub.execute_input": "2022-06-14T01:39:40.764768Z",
     "iopub.status.busy": "2022-06-14T01:39:40.764605Z",
     "iopub.status.idle": "2022-06-14T01:39:40.768789Z",
     "shell.execute_reply": "2022-06-14T01:39:40.768253Z",
     "shell.execute_reply.started": "2022-06-14T01:39:40.764747Z"
    },
    "scrolled": true,
    "tags": []
   },
   "outputs": [],
   "source": [
    "train(epochs=1, load_model=False)"
   ]
  },
  {
   "cell_type": "code",
   "execution_count": null,
   "metadata": {
    "execution": {
     "iopub.execute_input": "2022-06-14T01:44:25.312331Z",
     "iopub.status.busy": "2022-06-14T01:44:25.311354Z",
     "iopub.status.idle": "2022-06-14T01:44:26.865302Z",
     "shell.execute_reply": "2022-06-14T01:44:26.864607Z",
     "shell.execute_reply.started": "2022-06-14T01:44:25.312292Z"
    },
    "scrolled": true,
    "tags": []
   },
   "outputs": [],
   "source": [
    "train(epochs=epochs-1, load_model=True)"
   ]
  },
  {
   "cell_type": "markdown",
   "metadata": {},
   "source": [
    "# Test"
   ]
  },
  {
   "cell_type": "code",
   "execution_count": null,
   "metadata": {
    "execution": {
     "iopub.execute_input": "2022-06-14T01:45:32.596278Z",
     "iopub.status.busy": "2022-06-14T01:45:32.595557Z",
     "iopub.status.idle": "2022-06-14T01:45:33.958005Z",
     "shell.execute_reply": "2022-06-14T01:45:33.957299Z",
     "shell.execute_reply.started": "2022-06-14T01:45:32.596248Z"
    },
    "scrolled": true,
    "tags": []
   },
   "outputs": [],
   "source": [
    "net = Generator().to(device)\n",
    "net.load_state_dict(T.load(path_work + 'net_g.pt'))\n",
    "show(net)"
   ]
  },
  {
   "cell_type": "code",
   "execution_count": null,
   "metadata": {
    "scrolled": true
   },
   "outputs": [],
   "source": []
  }
 ],
 "metadata": {
  "kernelspec": {
   "display_name": "Python 3.9.13 ('pytorch')",
   "language": "python",
   "name": "python3"
  },
  "language_info": {
   "codemirror_mode": {
    "name": "ipython",
    "version": 3
   },
   "file_extension": ".py",
   "mimetype": "text/x-python",
   "name": "python",
   "nbconvert_exporter": "python",
   "pygments_lexer": "ipython3",
   "version": "3.9.13"
  },
  "vscode": {
   "interpreter": {
    "hash": "7cf6da5e8beced390049d9c6139c395b01a9f103347908593030ecc8eec04e13"
   }
  }
 },
 "nbformat": 4,
 "nbformat_minor": 4
}
