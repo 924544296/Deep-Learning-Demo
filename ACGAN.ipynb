{
 "cells": [
  {
   "cell_type": "markdown",
   "metadata": {},
   "source": [
    "遇到一个坑，也不知道是交叉熵损失函数还是什么，一开始不收敛，后来不知道做了什么可以了，依稀记得分类损失没用自带交叉熵，然后为了弄懂为什么，就又改了，并且忘了成功的时候是怎么做的。。最后改过之后，lsgan可以，其他都不行。。。醉了。。  \n",
    "这个先当废案吧，我再重新实现一下。。。  \n",
    "上面删掉。。找到原因了，python换行要加\\，不加虽然不报错，但是实际没加上。。。吐了"
   ]
  },
  {
   "cell_type": "code",
   "execution_count": 1,
   "metadata": {
    "collapsed": false
   },
   "outputs": [],
   "source": [
    "import torch as T \n",
    "import torch.nn as nn \n",
    "import torch.nn.functional as F \n",
    "from torch.utils.data import Dataset, DataLoader \n",
    "import matplotlib.pyplot as plt \n",
    "import os \n",
    "import torchvision.transforms as trans \n",
    "from PIL import Image \n",
    "import struct"
   ]
  },
  {
   "cell_type": "markdown",
   "metadata": {
    "collapsed": false
   },
   "source": [
    "# Data"
   ]
  },
  {
   "cell_type": "code",
   "execution_count": 2,
   "metadata": {},
   "outputs": [],
   "source": [
    "mode = 'rsgan' # 'gan', 'lsgan', 'rsgan'\n",
    "\n",
    "path_train = \"D:/data/MNIST/train/\"\n",
    "path_test = \"D:/data/MNIST/test/\"\n",
    "channel_d = 64\n",
    "channel_g = 64\n",
    "latent_dim = 100\n",
    "device = T.device(\"cuda:0\")\n",
    "path_work = \"D:/model/acgan/\"\n",
    "num_class = 10\n",
    "step_g = 1\n",
    "epochs = 10\n",
    "learning_rate_g = 2e-4\n",
    "learning_rate_d = 2e-4\n",
    "batch_size = 128\n",
    "num_workers = 0 # 2\n",
    "λ_cls = 10"
   ]
  },
  {
   "cell_type": "code",
   "execution_count": 3,
   "metadata": {
    "collapsed": false
   },
   "outputs": [],
   "source": [
    "class Dataset_acgan(Dataset):\n",
    "    #\n",
    "    def __init__(self, path=path_train):\n",
    "        names = os.listdir(path)\n",
    "        names.sort()\n",
    "        labels = [i for i in range(len(names))]\n",
    "        self.names_to_labels = dict(zip(names, labels))\n",
    "        self.labels_to_names = dict(zip(labels, names))\n",
    "        list_image = []\n",
    "        list_label = []\n",
    "        for name in names:\n",
    "            list_c = os.listdir(path + name)\n",
    "            for path_image in list_c:\n",
    "                list_image.append(path + name + '/' + path_image)\n",
    "                list_label.append(self.names_to_labels[name])\n",
    "        self.list_image = list_image\n",
    "        self.list_label = list_label\n",
    "        self.eye = T.eye(len(names))\n",
    "        self.transform = trans.Compose([trans.ToTensor(),\n",
    "                                        trans.Normalize((0.5), (0.5))\n",
    "                                        ])\n",
    "    #\n",
    "    def __getitem__(self, idx):\n",
    "        image = Image.open(self.list_image[idx])\n",
    "        image = self.transform(image)\n",
    "        label = self.eye[self.list_label[idx]].reshape([-1,1,1])\n",
    "        return image, label\n",
    "    #\n",
    "    def __len__(self):\n",
    "        return len(self.list_image)"
   ]
  },
  {
   "cell_type": "code",
   "execution_count": 4,
   "metadata": {},
   "outputs": [],
   "source": [
    "dataset = Dataset_acgan()\n",
    "dataloader = DataLoader(dataset, batch_size=1, shuffle=True)"
   ]
  },
  {
   "cell_type": "code",
   "execution_count": null,
   "metadata": {
    "collapsed": false
   },
   "outputs": [],
   "source": [
    "n = 0\n",
    "for image, label in dataloader:\n",
    "    if n >= 2:\n",
    "        break\n",
    "    n += 1\n",
    "    image = image.numpy().squeeze() * 0.5 + 0.5\n",
    "    plt.imshow(image, 'gray')\n",
    "    # plt.title(label.numpy().squeeze())\n",
    "    plt.title(dataset.labels_to_names[label.numpy().squeeze().argmax()])\n",
    "    plt.show()"
   ]
  },
  {
   "cell_type": "markdown",
   "metadata": {
    "collapsed": false
   },
   "source": [
    "# Network Structure"
   ]
  },
  {
   "cell_type": "code",
   "execution_count": 6,
   "metadata": {},
   "outputs": [],
   "source": [
    "class Discriminator(nn.Module):\n",
    "    #\n",
    "    def __init__(self, channel=channel_d, num_class=num_class):\n",
    "        super().__init__()\n",
    "        self.num_class = num_class\n",
    "        self.layers = nn.Sequential(\n",
    "            nn.Conv2d(1, channel, 4, 2, 1, bias=False),\n",
    "            nn.BatchNorm2d(channel),\n",
    "            nn.LeakyReLU(),\n",
    "            nn.Conv2d(channel, channel*2, 4, 2, 1, bias=False),\n",
    "            nn.BatchNorm2d(channel*2),\n",
    "            nn.LeakyReLU(),\n",
    "            nn.Conv2d(channel*2, channel*4, 3, 1, 0, bias=False),\n",
    "            nn.BatchNorm2d(channel*4),\n",
    "            nn.LeakyReLU(),\n",
    "            nn.Conv2d(channel*4, channel*8, 3, 1, 0, bias=False),\n",
    "            nn.BatchNorm2d(channel*8),\n",
    "            nn.LeakyReLU()\n",
    "        )\n",
    "        self.D_src = nn.Conv2d(channel*8, 1, 3, 1, 0, bias=False)\n",
    "        self.D_cls = nn.Conv2d(channel*8, num_class, 3, 1, 0, bias=False)\n",
    "    #\n",
    "    def forward(self, x):\n",
    "        x = self.layers(x)\n",
    "        src = self.D_src(x)\n",
    "        cls = self.D_cls(x)\n",
    "        return src, cls"
   ]
  },
  {
   "cell_type": "code",
   "execution_count": 7,
   "metadata": {},
   "outputs": [],
   "source": [
    "class Generator(nn.Module):\n",
    "    #\n",
    "    def __init__(self, channel=channel_g, latent_dim=latent_dim, num_class=num_class):\n",
    "        super().__init__()\n",
    "        self.layers = nn.Sequential(\n",
    "            nn.ConvTranspose2d(latent_dim+num_class, channel*8, 3, 1, 0, bias=False),\n",
    "            nn.BatchNorm2d(channel*8),\n",
    "            nn.ReLU(),\n",
    "            nn.ConvTranspose2d(channel*8, channel*4, 3, 1, 0, bias=False),\n",
    "            nn.BatchNorm2d(channel*4),\n",
    "            nn.ReLU(),\n",
    "            nn.ConvTranspose2d(channel*4, channel*2, 3, 1, 0, bias=False),\n",
    "            nn.BatchNorm2d(channel*2),\n",
    "            nn.ReLU(),\n",
    "            nn.ConvTranspose2d(channel*2, channel, 4, 2, 1, bias=False),\n",
    "            nn.BatchNorm2d(channel),\n",
    "            nn.ReLU(),\n",
    "            nn.ConvTranspose2d(channel, 1, 4, 2, 1, bias=False),\n",
    "            nn.Tanh()\n",
    "        )\n",
    "    #\n",
    "    def forward(self, noise, label):\n",
    "        x = T.cat([noise, label], 1)\n",
    "        return self.layers(x)"
   ]
  },
  {
   "cell_type": "markdown",
   "metadata": {
    "collapsed": false
   },
   "source": [
    "# Show"
   ]
  },
  {
   "cell_type": "code",
   "execution_count": 8,
   "metadata": {
    "collapsed": false
   },
   "outputs": [],
   "source": [
    "@T.no_grad()\n",
    "def show(GG=None):\n",
    "    #\n",
    "    if GG==None:\n",
    "        GG = Generator().to(device)\n",
    "    GG.eval()\n",
    "    #\n",
    "    plt.figure(figsize=(16, 8))\n",
    "    gs = plt.GridSpec(10, 20)\n",
    "    gs.update(wspace=0.05, hspace=0.05)\n",
    "    n = 0\n",
    "    z = T.randn([20,100,1,1]).to(device)\n",
    "    for i in range(10):\n",
    "        L = T.zeros([20,10,1,1]).to(device)\n",
    "        L[:,i,:,:] = 1 \n",
    "        images = GG(z,L).cpu().numpy().reshape([-1,28,28]).transpose([1,2,0]) * 0.5 + 0.5\n",
    "        for j in range(20):\n",
    "            ax = plt.subplot(gs[n])\n",
    "            n += 1\n",
    "            plt.axis('off')\n",
    "            ax.set_xticklabels([])\n",
    "            ax.set_yticklabels([])\n",
    "            ax.set_aspect('equal')\n",
    "            plt.imshow(images[:,:,j], 'gray')   \n",
    "    plt.show()"
   ]
  },
  {
   "cell_type": "code",
   "execution_count": null,
   "metadata": {},
   "outputs": [],
   "source": [
    "show()"
   ]
  },
  {
   "cell_type": "markdown",
   "metadata": {
    "collapsed": false
   },
   "source": [
    "# Train"
   ]
  },
  {
   "cell_type": "code",
   "execution_count": 10,
   "metadata": {
    "collapsed": false
   },
   "outputs": [],
   "source": [
    "def trainer_d(net_d, optimizer_d, net_g, image_real, label):\n",
    "    #\n",
    "    src_real, cls_real = net_d(image_real)\n",
    "    image_fake = net_g(T.randn([image_real.shape[0], latent_dim, 1, 1]).to(device), label)\n",
    "    src_fake, _ = net_d(image_fake.detach())\n",
    "    #\n",
    "    if mode == 'gan':\n",
    "        loss = F.binary_cross_entropy_with_logits(src_real, T.ones_like(src_real)) \\\n",
    "        + F.binary_cross_entropy_with_logits(src_fake, T.zeros_like(src_fake)) \\\n",
    "        + F.cross_entropy(cls_real, label) * λ_cls\n",
    "    if mode == 'lsgan':\n",
    "        loss = T.mean((1-src_real)**2) + T.mean(src_fake**2) + F.cross_entropy(cls_real, label) * λ_cls\n",
    "    if mode == 'rsgan':\n",
    "        loss = F.binary_cross_entropy_with_logits(src_real-src_fake, T.ones_like(src_real)) \\\n",
    "        + F.binary_cross_entropy_with_logits(src_fake-src_real, T.zeros_like(src_fake)) \\\n",
    "        + F.cross_entropy(cls_real, label) * λ_cls\n",
    "    #\n",
    "    optimizer_d.zero_grad()\n",
    "    loss.backward()\n",
    "    optimizer_d.step()"
   ]
  },
  {
   "cell_type": "code",
   "execution_count": 11,
   "metadata": {},
   "outputs": [],
   "source": [
    "def trainer_g(net_g, optimizer_g, net_d, image_real, label):\n",
    "    #\n",
    "    image_fake = net_g(T.randn([image_real.shape[0], latent_dim, 1, 1]).to(device), label)\n",
    "    src_fake, cls_fake = net_d(image_fake)\n",
    "    #\n",
    "    if mode == 'gan':\n",
    "        loss = F.binary_cross_entropy_with_logits(src_fake, T.ones_like(src_fake)) + F.cross_entropy(cls_fake, label) * λ_cls\n",
    "    if mode == 'lsgan':\n",
    "        loss = T.mean((1-src_fake)**2) + F.cross_entropy(cls_fake, label) * λ_cls\n",
    "    if mode == 'rsgan':\n",
    "        src_real, _ = net_d(image_real)\n",
    "        loss = F.binary_cross_entropy_with_logits(src_fake-src_real, T.ones_like(src_real)) \\\n",
    "        + F.binary_cross_entropy_with_logits(src_real-src_fake, T.zeros_like(src_fake)) \\\n",
    "        + F.cross_entropy(cls_fake, label) * λ_cls\n",
    "    #\n",
    "    optimizer_g.zero_grad()\n",
    "    loss.backward()\n",
    "    optimizer_g.step()"
   ]
  },
  {
   "cell_type": "code",
   "execution_count": 12,
   "metadata": {
    "collapsed": false
   },
   "outputs": [],
   "source": [
    "def train(epochs, load_model):\n",
    "    #\n",
    "    net_d = Discriminator().to(device)\n",
    "    net_g = Generator().to(device)\n",
    "    net_d.train()\n",
    "    optimizer_d = T.optim.Adam(net_d.parameters(), learning_rate_d, betas=(0.5,0.999))\n",
    "    optimizer_g = T.optim.Adam(net_g.parameters(), learning_rate_g, betas=(0.5,0.999))\n",
    "    if load_model:\n",
    "        net_d.load_state_dict(T.load(path_work + 'net_d.pt'))\n",
    "        net_g.load_state_dict(T.load(path_work + 'net_g.pt'))\n",
    "    #\n",
    "    iteration = 0\n",
    "    for epoch in range(epochs):\n",
    "        # print('0')\n",
    "        dataloader = DataLoader(Dataset_acgan(), batch_size=batch_size, shuffle=True, num_workers=num_workers)\n",
    "        # print('1')\n",
    "        # print(len(dataloader))\n",
    "        for image, label in dataloader:\n",
    "            # print('2')\n",
    "            net_g.train()\n",
    "            image_real = image.to(device)\n",
    "            label = label.to(device)\n",
    "            trainer_d(net_d, optimizer_d, net_g, image_real, label)\n",
    "            iteration += 1\n",
    "            if iteration % step_g == 0:\n",
    "                trainer_g(net_g, optimizer_g, net_d, image_real, label)\n",
    "            # print('3')\n",
    "    #\n",
    "        if epoch % 1 == 0:\n",
    "            print('Epoch: ', epoch, ', Iteration: ', iteration)\n",
    "            T.save(net_d.state_dict(), path_work + 'net_d.pt')\n",
    "            T.save(net_g.state_dict(), path_work + 'net_g.pt')\n",
    "            show(net_g)"
   ]
  },
  {
   "cell_type": "code",
   "execution_count": null,
   "metadata": {
    "collapsed": false
   },
   "outputs": [],
   "source": [
    "train(epochs=epochs, load_model=False)"
   ]
  },
  {
   "cell_type": "code",
   "execution_count": 14,
   "metadata": {
    "collapsed": false
   },
   "outputs": [],
   "source": [
    "# train(epochs=epochs, load_model=True)"
   ]
  },
  {
   "cell_type": "markdown",
   "metadata": {},
   "source": [
    "# Test"
   ]
  },
  {
   "cell_type": "code",
   "execution_count": null,
   "metadata": {},
   "outputs": [],
   "source": [
    "net_g = Generator().to(device)\n",
    "net_g.load_state_dict(T.load(path_work + 'net_g.pt'))\n",
    "net_g.eval()\n",
    "\n",
    "show(net_g)"
   ]
  },
  {
   "cell_type": "markdown",
   "metadata": {},
   "source": [
    "# Export onnx"
   ]
  },
  {
   "cell_type": "code",
   "execution_count": 26,
   "metadata": {},
   "outputs": [],
   "source": [
    "net_g = Generator().to(device)\n",
    "net_g.load_state_dict(T.load(path_work + 'net_g.pt'))\n",
    "net_g.eval()\n",
    "\n",
    "T.onnx.export(net_g, (T.randn(10, 100, 1, 1).to(device), T.randn(10, 10, 1, 1).to(device)), f=path_work+'net_g.onnx')"
   ]
  },
  {
   "cell_type": "code",
   "execution_count": null,
   "metadata": {},
   "outputs": [],
   "source": [
    "print(net_g)"
   ]
  },
  {
   "cell_type": "markdown",
   "metadata": {},
   "source": [
    "# Export wts"
   ]
  },
  {
   "cell_type": "code",
   "execution_count": 22,
   "metadata": {},
   "outputs": [],
   "source": [
    "net_g = Generator().to(device)\n",
    "net_g.load_state_dict(T.load(path_work + 'net_g.pt'))\n",
    "net_g.eval()\n",
    "\n",
    "\n",
    "with open(path_work + 'net_g.wts', 'w') as f:\n",
    "    f.write('{}\\n'.format(len(net_g.state_dict().keys())))\n",
    "    for k, v in net_g.state_dict().items():\n",
    "        vr = v.reshape(-1).cpu().numpy()\n",
    "        f.write('{} {} '.format(k, len(vr)))\n",
    "        for vv in vr:\n",
    "            f.write(' ')\n",
    "            f.write(struct.pack('>f', float(vv)).hex())\n",
    "        f.write('\\n')"
   ]
  },
  {
   "cell_type": "code",
   "execution_count": null,
   "metadata": {},
   "outputs": [],
   "source": []
  }
 ],
 "metadata": {
  "kernelspec": {
   "display_name": "T",
   "language": "python",
   "name": "python3"
  },
  "language_info": {
   "codemirror_mode": {
    "name": "ipython",
    "version": 3
   },
   "file_extension": ".py",
   "mimetype": "text/x-python",
   "name": "python",
   "nbconvert_exporter": "python",
   "pygments_lexer": "ipython3",
   "version": "3.12.4"
  }
 },
 "nbformat": 4,
 "nbformat_minor": 1
}
