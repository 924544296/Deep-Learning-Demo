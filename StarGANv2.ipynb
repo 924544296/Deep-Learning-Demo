{
 "cells": [
  {
   "cell_type": "code",
   "execution_count": null,
   "metadata": {},
   "outputs": [],
   "source": []
  },
  {
   "cell_type": "code",
   "execution_count": 4,
   "metadata": {},
   "outputs": [
    {
     "name": "stdout",
     "output_type": "stream",
     "text": [
      "torch.Size([10, 20])\n"
     ]
    }
   ],
   "source": [
    "\n",
    "import torch\n",
    "import torch.nn as nn\n",
    " \n",
    "class AdaptiveLayerNorm(nn.Module):\n",
    "    def __init__(self, normalized_shape, eps=1e-5):\n",
    "        super(AdaptiveLayerNorm, self).__init__()\n",
    "        self.eps = eps\n",
    "        self.gamma_net = nn.Sequential(\n",
    "            nn.Linear(normalized_shape, normalized_shape),\n",
    "            nn.ReLU(),\n",
    "            nn.Linear(normalized_shape, normalized_shape)\n",
    "        )\n",
    "        self.beta_net = nn.Sequential(\n",
    "            nn.Linear(normalized_shape, normalized_shape),\n",
    "            nn.ReLU(),\n",
    "            nn.Linear(normalized_shape, normalized_shape)\n",
    "        )\n",
    " \n",
    "    def forward(self, x):\n",
    "        mean = x.mean(-1, keepdim=True)\n",
    "        std = x.std(-1, keepdim=True)\n",
    "        gamma = self.gamma_net(x)\n",
    "        beta = self.beta_net(x)\n",
    "        x_normalized = (x - mean) / (std + self.eps)\n",
    "        return gamma * x_normalized + beta\n",
    " \n",
    "# 示例用法\n",
    "x = torch.randn(10, 20)  # 假设输入形状为 (batch_size, feature_dim)\n",
    "ada_ln = AdaptiveLayerNorm(20)\n",
    "output = ada_ln(x)\n",
    "print(output.shape)"
   ]
  },
  {
   "cell_type": "code",
   "execution_count": null,
   "metadata": {},
   "outputs": [],
   "source": []
  },
  {
   "cell_type": "code",
   "execution_count": 2,
   "metadata": {},
   "outputs": [
    {
     "name": "stdout",
     "output_type": "stream",
     "text": [
      "tensor([[[[ 0.2226,  0.5888, -1.9424, -0.3032],\n",
      "          [ 1.2601,  0.1420, -0.7135,  2.4239],\n",
      "          [-1.5754, -0.6671, -0.1235, -0.1898]],\n",
      "\n",
      "         [[ 0.4960, -0.7030, -0.0987, -0.5353],\n",
      "          [ 0.0945,  0.9687, -1.8395,  1.2124],\n",
      "          [-2.1711,  1.1008, -0.2923, -1.1552]]],\n",
      "\n",
      "\n",
      "        [[[ 2.1922,  0.1262, -1.2223,  1.0639],\n",
      "          [ 1.7572, -0.9813,  2.1042,  1.9242],\n",
      "          [-0.2036,  0.4515, -0.1637,  1.0263]],\n",
      "\n",
      "         [[ 2.4656, -1.1656,  0.6214,  0.8319],\n",
      "          [ 0.5916, -0.1546,  0.9782,  0.7127],\n",
      "          [-0.7993,  2.2195, -0.3325,  0.0609]]]])\n",
      "torch.Size([2, 2, 3, 4])\n",
      "tensor([[[[ 0.2226,  0.5888, -1.9424, -0.3032],\n",
      "          [ 1.2601,  0.1420, -0.7135,  2.4239],\n",
      "          [-1.5754, -0.6671, -0.1235, -0.1898]],\n",
      "\n",
      "         [[ 0.4960, -0.7030, -0.0987, -0.5353],\n",
      "          [ 0.0945,  0.9687, -1.8395,  1.2124],\n",
      "          [-2.1711,  1.1008, -0.2923, -1.1552]]],\n",
      "\n",
      "\n",
      "        [[[ 2.1922,  0.1262, -1.2223,  1.0639],\n",
      "          [ 1.7572, -0.9813,  2.1042,  1.9242],\n",
      "          [-0.2036,  0.4515, -0.1637,  1.0263]],\n",
      "\n",
      "         [[ 2.4656, -1.1656,  0.6214,  0.8319],\n",
      "          [ 0.5916, -0.1546,  0.9782,  0.7127],\n",
      "          [-0.7993,  2.2195, -0.3325,  0.0609]]]])\n",
      "torch.Size([2, 2, 3, 4])\n"
     ]
    }
   ],
   "source": [
    "import torch as T \n",
    "\n",
    "x1 = T.randn([2,1,3,4])\n",
    "x2 = T.randn([2,3,4])\n",
    "x3 = x2.clone()[None, :, :, :]\n",
    "y1 = x1-x2\n",
    "y2 = x1-x3\n",
    "print(y1)\n",
    "print(y1.shape)\n",
    "print(y2)\n",
    "print(y2.shape)"
   ]
  },
  {
   "cell_type": "code",
   "execution_count": null,
   "metadata": {},
   "outputs": [],
   "source": []
  },
  {
   "cell_type": "code",
   "execution_count": null,
   "metadata": {},
   "outputs": [],
   "source": []
  },
  {
   "cell_type": "code",
   "execution_count": null,
   "metadata": {},
   "outputs": [],
   "source": []
  },
  {
   "cell_type": "code",
   "execution_count": null,
   "metadata": {},
   "outputs": [],
   "source": []
  },
  {
   "cell_type": "code",
   "execution_count": null,
   "metadata": {},
   "outputs": [],
   "source": []
  },
  {
   "cell_type": "code",
   "execution_count": null,
   "metadata": {},
   "outputs": [],
   "source": []
  },
  {
   "cell_type": "code",
   "execution_count": null,
   "metadata": {},
   "outputs": [],
   "source": []
  },
  {
   "cell_type": "code",
   "execution_count": null,
   "metadata": {},
   "outputs": [],
   "source": []
  },
  {
   "cell_type": "code",
   "execution_count": null,
   "metadata": {},
   "outputs": [],
   "source": []
  },
  {
   "cell_type": "code",
   "execution_count": null,
   "metadata": {},
   "outputs": [],
   "source": []
  },
  {
   "cell_type": "code",
   "execution_count": null,
   "metadata": {},
   "outputs": [],
   "source": []
  },
  {
   "cell_type": "code",
   "execution_count": null,
   "metadata": {},
   "outputs": [],
   "source": []
  }
 ],
 "metadata": {
  "kernelspec": {
   "display_name": "T",
   "language": "python",
   "name": "python3"
  },
  "language_info": {
   "codemirror_mode": {
    "name": "ipython",
    "version": 3
   },
   "file_extension": ".py",
   "mimetype": "text/x-python",
   "name": "python",
   "nbconvert_exporter": "python",
   "pygments_lexer": "ipython3",
   "version": "3.12.4"
  }
 },
 "nbformat": 4,
 "nbformat_minor": 2
}
