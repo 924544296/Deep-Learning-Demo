{
 "cells": [
  {
   "cell_type": "code",
   "execution_count": null,
   "metadata": {
    "collapsed": false
   },
   "outputs": [],
   "source": [
    "import numpy as np \n",
    "from PIL import Image \n",
    "import matplotlib.pyplot as plt \n",
    "import os \n",
    "import torch as T \n",
    "import torch.nn as nn \n",
    "import torch.nn.functional as F \n",
    "import torchvision.transforms as trans\n",
    "from torch.utils.data import Dataset, DataLoader \n",
    "import time "
   ]
  },
  {
   "cell_type": "markdown",
   "metadata": {
    "collapsed": false
   },
   "source": [
    "# Clobal Variable"
   ]
  },
  {
   "cell_type": "code",
   "execution_count": null,
   "metadata": {
    "collapsed": false
   },
   "outputs": [],
   "source": [
    "mode = 'bgan' # 'gan', 'lsgan', 'rsgan', 'bgan'\n",
    "\n",
    "path_image = \"/home/wwang/datasets/celeba/img_align_celeba/\"\n",
    "crop_size = 178\n",
    "image_size = 64\n",
    "channel_g = 64\n",
    "channel_d = 64\n",
    "row = 2\n",
    "col = 4\n",
    "latent_dim = 100\n",
    "device = T.device(\"cuda:0\")\n",
    "fixed_noise = T.randn([row*col, latent_dim, 1, 1]).to(device)\n",
    "batch_size = 128\n",
    "epochs = 200 #\n",
    "learning_rate_d = 2e-4\n",
    "learning_rate_g = 2e-4\n",
    "step_g = 1\n",
    "path_work = '/home/wwang/wwgeneration/work/' + mode + '/'\n",
    "num_workers = 4"
   ]
  },
  {
   "cell_type": "markdown",
   "metadata": {
    "collapsed": false
   },
   "source": [
    "# Data"
   ]
  },
  {
   "cell_type": "code",
   "execution_count": null,
   "metadata": {},
   "outputs": [],
   "source": [
    "class Dataset_gan(Dataset):\n",
    "    #\n",
    "    def __init__(self, path=path_image):\n",
    "        self.path = path\n",
    "        self.dirs = os.listdir(path)\n",
    "        self.transform = trans.Compose([trans.CenterCrop(crop_size),\n",
    "                                        trans.Resize(image_size, Image.BICUBIC),\n",
    "                                        trans.RandomHorizontalFlip(),\n",
    "                                        trans.ToTensor(),\n",
    "                                        trans.Normalize((0.5, 0.5, 0.5), (0.5, 0.5, 0.5))\n",
    "                                        ])\n",
    "    #\n",
    "    def __getitem__(self, idx):\n",
    "        image = Image.open(self.path + self.dirs[idx])\n",
    "        image = self.transform(image)\n",
    "        return image\n",
    "    #\n",
    "    def __len__(self):\n",
    "        return len(self.dirs)"
   ]
  },
  {
   "cell_type": "code",
   "execution_count": null,
   "metadata": {},
   "outputs": [],
   "source": [
    "dataloader = DataLoader(Dataset_gan(), batch_size=1)\n",
    "n = 0\n",
    "for image in dataloader:\n",
    "    if n == 2:\n",
    "        break\n",
    "    image = image.numpy().squeeze().transpose([1,2,0])\n",
    "    plt.subplot(1,2,1), plt.imshow(image/2+0.5)\n",
    "    plt.show()\n",
    "    n += 1"
   ]
  },
  {
   "cell_type": "markdown",
   "metadata": {
    "collapsed": false
   },
   "source": [
    "# Network Structure"
   ]
  },
  {
   "cell_type": "markdown",
   "metadata": {
    "collapsed": false
   },
   "source": [
    "## Generator"
   ]
  },
  {
   "cell_type": "code",
   "execution_count": null,
   "metadata": {
    "collapsed": false
   },
   "outputs": [],
   "source": [
    "class CNA(nn.Module):\n",
    "    #\n",
    "    def __init__(self, in_channels, out_channels, kernel_size, stride, padding, conv, norm, act):\n",
    "        super().__init__()\n",
    "        if conv == 'conv':\n",
    "            self.layers = nn.ModuleList([nn.Conv2d(in_channels, out_channels, kernel_size, stride, padding, bias=False)])\n",
    "        if conv == 'tconv':\n",
    "            self.layers = nn.ModuleList([nn.ConvTranspose2d(in_channels, out_channels, kernel_size, stride, padding, bias=False)])\n",
    "        if norm == 'bn':\n",
    "            self.layers.append(nn.BatchNorm2d(out_channels))\n",
    "        if act == 'relu':\n",
    "            self.layers.append(nn.ReLU())\n",
    "        if act == 'lrelu':\n",
    "            self.layers.append(nn.LeakyReLU(0.2))\n",
    "    #\n",
    "    def forward(self, x):\n",
    "        for layer in self.layers:\n",
    "            x = layer(x)\n",
    "        return x"
   ]
  },
  {
   "cell_type": "code",
   "execution_count": null,
   "metadata": {
    "collapsed": false
   },
   "outputs": [],
   "source": [
    "class Generator(nn.Module):\n",
    "    #\n",
    "    def __init__(self, latent_dim=latent_dim, channel=channel_g):\n",
    "        super().__init__()\n",
    "        self.layers = nn.Sequential(\n",
    "            CNA(latent_dim, channel*8, 4, 1, 0, 'tconv', 'bn', 'relu'),\n",
    "            CNA(channel*8, channel*4, 4, 2, 1, 'tconv', 'bn', 'relu'),\n",
    "            CNA(channel*4, channel*2, 4, 2, 1, 'tconv', 'bn', 'relu'),\n",
    "            CNA(channel*2, channel, 4, 2, 1, 'tconv', 'bn', 'relu'),\n",
    "            CNA(channel, 3, 4, 2, 1, 'tconv', False, False),\n",
    "            nn.Tanh()\n",
    "        )\n",
    "    #\n",
    "    def forward(self, x):\n",
    "        return self.layers(x)"
   ]
  },
  {
   "cell_type": "markdown",
   "metadata": {
    "collapsed": false
   },
   "source": [
    "## Discriminator"
   ]
  },
  {
   "cell_type": "code",
   "execution_count": null,
   "metadata": {
    "collapsed": false
   },
   "outputs": [],
   "source": [
    "class Discriminator(nn.Module):\n",
    "    #\n",
    "    def __init__(self, channel=channel_d):\n",
    "        super().__init__()\n",
    "        self.layers = nn.Sequential(\n",
    "            CNA(3, channel, 4, 2, 1, 'conv', False, 'lrelu'),\n",
    "            CNA(channel, channel*2, 4, 2, 1, 'conv', 'bn', 'lrelu'),\n",
    "            CNA(channel*2, channel*4, 4, 2, 1, 'conv', 'bn', 'lrelu'),\n",
    "            CNA(channel*4, channel*8, 4, 2, 1, 'conv', 'bn', 'lrelu'),\n",
    "            CNA(channel*8, 1, 4, 1, 0, 'conv', False, False)\n",
    "        )\n",
    "    #\n",
    "    def forward(self, x):\n",
    "        return self.layers(x).reshape([-1,1])"
   ]
  },
  {
   "cell_type": "markdown",
   "metadata": {
    "collapsed": false
   },
   "source": [
    "# Show"
   ]
  },
  {
   "cell_type": "code",
   "execution_count": null,
   "metadata": {
    "collapsed": false
   },
   "outputs": [],
   "source": [
    "@T.no_grad()\n",
    "def show(net=None, row=2, col=4, fix=True):\n",
    "    if net is None:\n",
    "        net = Generator().to(device)\n",
    "    net.eval()\n",
    "    if fix:\n",
    "        images = net(fixed_noise).cpu().numpy().transpose([0,2,3,1])\n",
    "    else:\n",
    "        images = net(T.randn([row*col, latent_dim, 1, 1]).to(device)).cpu().numpy().transpose([0,2,3,1])\n",
    "    print(np.max(images), np.min(images))\n",
    "    plt.figure(figsize=(16,8))\n",
    "    for i in range(row*col):\n",
    "        image = (images[i,:,:,:] + 1) / 2\n",
    "        plt.subplot(row, col, i+1), plt.imshow(image)\n",
    "    plt.show()"
   ]
  },
  {
   "cell_type": "code",
   "execution_count": null,
   "metadata": {
    "collapsed": false
   },
   "outputs": [],
   "source": [
    "show()"
   ]
  },
  {
   "cell_type": "markdown",
   "metadata": {
    "collapsed": false
   },
   "source": [
    "# Train"
   ]
  },
  {
   "cell_type": "code",
   "execution_count": null,
   "metadata": {
    "collapsed": false
   },
   "outputs": [],
   "source": [
    "def trainer_d(net_d, optimizer_d, net_g, image_real, mode):\n",
    "    #\n",
    "    src_real = net_d(image_real)\n",
    "    image_fake = net_g(T.randn([image_real.shape[0], latent_dim, 1, 1]).to(device))\n",
    "    src_fake = net_d(image_fake.detach())\n",
    "    #\n",
    "    if mode == 'gan' or mode == 'bgan':\n",
    "        loss = F.binary_cross_entropy_with_logits(src_real, T.ones_like(src_real)) + F.binary_cross_entropy_with_logits(src_fake, T.zeros_like(src_fake))\n",
    "    if mode == 'lsgan':\n",
    "        loss = T.mean((1-src_real)**2) + T.mean(src_fake**2)\n",
    "    if mode == 'rsgan':\n",
    "        loss = F.binary_cross_entropy_with_logits(src_real-src_fake, T.ones_like(src_real)) + F.binary_cross_entropy_with_logits(src_fake-src_real, T.zeros_like(src_fake))\n",
    "    #\n",
    "    optimizer_d.zero_grad()\n",
    "    loss.backward()\n",
    "    optimizer_d.step()"
   ]
  },
  {
   "cell_type": "code",
   "execution_count": null,
   "metadata": {
    "collapsed": false
   },
   "outputs": [],
   "source": [
    "def trainer_g(net_g, optimizer_g, net_d, image_real, mode):\n",
    "    #\n",
    "    image_fake = net_g(T.randn([image_real.shape[0], latent_dim, 1, 1]).to(device))\n",
    "    src_fake = net_d(image_fake)\n",
    "    #\n",
    "    if mode == 'gan':\n",
    "        loss = F.binary_cross_entropy_with_logits(src_fake, T.ones_like(src_fake))\n",
    "    if mode == 'lsgan':\n",
    "        loss = T.mean((1-src_fake)**2)\n",
    "    if mode == 'rsgan':\n",
    "        src_real = net_d(image_real)\n",
    "        loss = F.binary_cross_entropy_with_logits(src_fake-src_real, T.ones_like(src_real)) + F.binary_cross_entropy_with_logits(src_real-src_fake, T.zeros_like(src_fake))\n",
    "    if mode == 'bgan':\n",
    "        loss = T.mean((T.log(T.sigmoid(src_fake)+1e-8) - T.log(1-T.sigmoid(src_fake)+1e-8)) ** 2) / 2\n",
    "    #\n",
    "    optimizer_g.zero_grad()\n",
    "    loss.backward()\n",
    "    optimizer_g.step()"
   ]
  },
  {
   "cell_type": "code",
   "execution_count": null,
   "metadata": {
    "collapsed": false
   },
   "outputs": [],
   "source": [
    "def train(epochs, load_model):\n",
    "    #\n",
    "    epoch_last = np.load(path_work + 'epoch.npy', allow_pickle=True).item() if load_model else -1\n",
    "    net_d = Discriminator().to(device)\n",
    "    net_d.train()\n",
    "    net_g = Generator().to(device)\n",
    "    net_g.train()\n",
    "    optimizer_d = T.optim.Adam(net_d.parameters(), learning_rate_d, betas=(0.5,0.999))\n",
    "    optimizer_g = T.optim.Adam(net_g.parameters(), learning_rate_g, betas=(0.5,0.999))\n",
    "    if load_model:\n",
    "        net_d.load_state_dict(T.load(path_work + 'net_d.pt'))\n",
    "        net_g.load_state_dict(T.load(path_work + 'net_g.pt'))\n",
    "    #\n",
    "    iteration = 0\n",
    "    time_start = time.time()\n",
    "    for epoch in range(epoch_last+1, epochs):\n",
    "        dataloader = DataLoader(Dataset_gan(), batch_size=batch_size, shuffle=True, num_workers=num_workers)\n",
    "        for data in dataloader:\n",
    "            image_real = data.to(device)\n",
    "            trainer_d(net_d, optimizer_d, net_g, image_real, mode)\n",
    "            iteration += 1\n",
    "            if iteration % step_g == 0:\n",
    "                trainer_g(net_g, optimizer_g, net_d, image_real, mode)\n",
    "    #\n",
    "            if iteration % 1000 == 0:\n",
    "                print('Epoch: ', epoch, ', Iteration: ', iteration)\n",
    "                show(net_g)\n",
    "                net_g.train()\n",
    "        T.save(net_d.state_dict(), path_work + 'net_d.pt')\n",
    "        T.save(net_g.state_dict(), path_work + 'net_g.pt')\n",
    "        T.save(net_d.state_dict(), path_work + 'net_d_backup.pt')\n",
    "        T.save(net_g.state_dict(), path_work + 'net_g_backup.pt')\n",
    "        np.save(path_work + 'epoch.npy', epoch) \n",
    "        print('This epoch costs {} seconds.'.format(time.time() - time_start))\n",
    "        time_start = time.time()"
   ]
  },
  {
   "cell_type": "code",
   "execution_count": null,
   "metadata": {
    "collapsed": false
   },
   "outputs": [],
   "source": [
    "# train(epochs=epochs, load_model=False)"
   ]
  },
  {
   "cell_type": "code",
   "execution_count": null,
   "metadata": {
    "collapsed": false
   },
   "outputs": [],
   "source": [
    "train(epochs=epochs, load_model=True)"
   ]
  },
  {
   "cell_type": "markdown",
   "metadata": {
    "collapsed": false
   },
   "source": [
    "# Test"
   ]
  },
  {
   "cell_type": "code",
   "execution_count": null,
   "metadata": {
    "collapsed": false
   },
   "outputs": [],
   "source": [
    "net_g = Generator().to(device)\n",
    "net_g.load_state_dict(T.load(path_work + 'net_g.pt'))\n",
    "show(net_g, fix=False)"
   ]
  },
  {
   "cell_type": "code",
   "execution_count": null,
   "metadata": {
    "collapsed": false
   },
   "outputs": [],
   "source": []
  },
  {
   "cell_type": "code",
   "execution_count": null,
   "metadata": {
    "collapsed": false
   },
   "outputs": [],
   "source": []
  },
  {
   "cell_type": "code",
   "execution_count": null,
   "metadata": {
    "collapsed": false
   },
   "outputs": [],
   "source": []
  },
  {
   "cell_type": "code",
   "execution_count": null,
   "metadata": {
    "collapsed": false
   },
   "outputs": [],
   "source": []
  },
  {
   "cell_type": "code",
   "execution_count": null,
   "metadata": {
    "collapsed": false
   },
   "outputs": [],
   "source": []
  }
 ],
 "metadata": {
  "kernelspec": {
   "display_name": "Python 3.9.13 ('pytorch')",
   "language": "python",
   "name": "python3"
  },
  "language_info": {
   "codemirror_mode": {
    "name": "ipython",
    "version": 3
   },
   "file_extension": ".py",
   "mimetype": "text/x-python",
   "name": "python",
   "nbconvert_exporter": "python",
   "pygments_lexer": "ipython3",
   "version": "3.9.13"
  },
  "vscode": {
   "interpreter": {
    "hash": "7cf6da5e8beced390049d9c6139c395b01a9f103347908593030ecc8eec04e13"
   }
  }
 },
 "nbformat": 4,
 "nbformat_minor": 1
}
